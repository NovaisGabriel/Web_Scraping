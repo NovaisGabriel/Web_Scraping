{
 "cells": [
  {
   "cell_type": "markdown",
   "metadata": {},
   "source": [
    "<h3>Importando Pacotes</h3>"
   ]
  },
  {
   "cell_type": "code",
   "execution_count": 8,
   "metadata": {},
   "outputs": [],
   "source": [
    "# Import\n",
    "import urllib.request\n",
    "import numpy as np\n",
    "import pandas as pd\n",
    "import ast\n",
    "import json as js\n",
    "import re\n",
    "\n",
    "#From\n",
    "from bs4 import BeautifulSoup as bf4"
   ]
  },
  {
   "cell_type": "markdown",
   "metadata": {},
   "source": [
    "<h3> Obtenção de dados do ZAP </h3>"
   ]
  },
  {
   "cell_type": "code",
   "execution_count": 140,
   "metadata": {},
   "outputs": [],
   "source": [
    "def find_substring(substring, string):\n",
    "    indices = []\n",
    "    index = -1  # Begin at -1 so index + 1 is 0\n",
    "    while True:\n",
    "        # Find next index of substring, by starting search from index + 1\n",
    "        index = string.find(substring, index + 1)\n",
    "        if index == -1:  \n",
    "            break  # All occurrences have been found\n",
    "        indices.append(index)\n",
    "    return indices"
   ]
  },
  {
   "cell_type": "code",
   "execution_count": 141,
   "metadata": {},
   "outputs": [],
   "source": [
    "#Url's de destino:\n",
    "url_principal = 'https://www.zapimoveis.com.br/venda/apartamentos/rj+rio-de-janeiro/'\n",
    "\n",
    "url_seletor = '#{\"precomaximo\":\"2147483647\",\"parametrosautosuggest\":[{\"Bairro\":\"\",\"Zona\":\"\",\"Cidade\":\"RIO%20DE%20JANEIRO\",\"Agrupamento\":\"\",\"Estado\":\"RJ\"}],\"pagina\":'\n",
    "\n",
    "url_final=',\"ordem\":\"Valor\",\"paginaOrigem\":\"ResultadoBusca\",\"semente\":\"702111458\",\"formato\":\"Lista\"}'"
   ]
  },
  {
   "cell_type": "code",
   "execution_count": 170,
   "metadata": {},
   "outputs": [],
   "source": [
    "def searchPrice(url_principal,url_seletor,url_final,pgs):\n",
    "    for k in range(0,pgs):\n",
    "        #vetor para guardar dados:\n",
    "        p=[]\n",
    "        url_pag = str(pgs)\n",
    "        url = url_principal + url_seletor + url_pag + url_final\n",
    "\n",
    "        req = urllib.request.Request(\n",
    "            url, \n",
    "            data=None, \n",
    "            headers={\n",
    "                'User-Agent': 'Mozilla/5.0 (Macintosh; Intel Mac OS X 10_9_3) AppleWebKit/537.36 (KHTML, like Gecko) Chrome/35.0.1916.47 Safari/537.36'\n",
    "            }\n",
    "        )\n",
    "\n",
    "        f = urllib.request.urlopen(req)\n",
    "        content = bf4(f.read())\n",
    "        content=str(content)\n",
    "        positionI = find_substring('<div class=\"simple-card__prices simple-card__listing-prices\"><p class=\"simple-card__price js-price heading-regular heading-regular__bolder align-left\">',content)\n",
    "\n",
    "        j=0\n",
    "        while (j<len(positionI)):\n",
    "            inicio = positionI[j]+156\n",
    "            fim = inicio+12\n",
    "            preco_j = content[inicio:fim]\n",
    "            p.append(preco_j)\n",
    "            j=j+1\n",
    "    return p"
   ]
  },
  {
   "cell_type": "code",
   "execution_count": 171,
   "metadata": {},
   "outputs": [
    {
     "name": "stdout",
     "output_type": "stream",
     "text": "['R$ 324.200\\n ', 'Sob consulta', 'Sob consulta', 'R$ 3.350.000', 'R$ 660.000\\n ', 'R$ 799.000\\n ', 'R$ 595.845\\n ', 'R$ 240.000\\n ', 'R$ 395.000\\n ', 'R$ 2.800.000', 'R$ 470.000\\n ', 'R$ 230.000\\n ', 'R$ 234.000\\n ', 'R$ 1.400.000', 'R$ 1.990.000', 'R$ 780.000\\n ', 'R$ 504.000\\n ', 'R$ 890.000\\n ', 'R$ 6.890.000', 'R$ 285.000\\n ', 'R$ 3.400.000', 'R$ 474.000\\n ', 'R$ 700.000\\n ', 'R$ 6.500.000', 'R$ 485.000\\n ', 'R$ 445.000\\n ', 'R$ 1.500.000', 'R$ 2.600.000', 'R$ 2.650.000', 'R$ 4.200.000', 'R$ 235.000\\n ', 'R$ 1.600.000', 'R$ 8.400.000', 'R$ 5.600.000', 'R$ 449.000\\n ', 'R$ 1.080.000']\n"
    }
   ],
   "source": [
    "ans = searchPrice(url_principal,url_seletor,url_final,2)\n",
    "print(ans)"
   ]
  },
  {
   "cell_type": "code",
   "execution_count": null,
   "metadata": {},
   "outputs": [],
   "source": []
  }
 ],
 "metadata": {
  "kernelspec": {
   "display_name": "Python 3",
   "language": "python",
   "name": "python3"
  },
  "language_info": {
   "codemirror_mode": {
    "name": "ipython",
    "version": 3
   },
   "file_extension": ".py",
   "mimetype": "text/x-python",
   "name": "python",
   "nbconvert_exporter": "python",
   "pygments_lexer": "ipython3",
   "version": "3.7.4-final"
  }
 },
 "nbformat": 4,
 "nbformat_minor": 2
}